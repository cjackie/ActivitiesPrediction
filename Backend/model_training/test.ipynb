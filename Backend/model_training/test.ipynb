{
 "metadata": {
  "name": ""
 },
 "nbformat": 3,
 "nbformat_minor": 0,
 "worksheets": [
  {
   "cells": [
    {
     "cell_type": "code",
     "collapsed": false,
     "input": [
      "from motion_basis_learning import MotionBasisLearner\n",
      "import numpy as np\n",
      "import tensorflow as tf\n",
      "import matplotlib.pyplot as plt\n",
      "from descriptor_extractor import DescriptorExtractor\n",
      "\n",
      "import sys\n",
      "sys.path.append('../data/')\n",
      "from shoaib_data_set import process\n",
      "\n",
      "import cProfile\n",
      "\n",
      "%matplotlib inline"
     ],
     "language": "python",
     "metadata": {},
     "outputs": [],
     "prompt_number": 1
    },
    {
     "cell_type": "code",
     "collapsed": false,
     "input": [
      "accel_data, gyro_data = process.data(600,verbose=False)"
     ],
     "language": "python",
     "metadata": {},
     "outputs": [],
     "prompt_number": 2
    },
    {
     "cell_type": "code",
     "collapsed": false,
     "input": [
      "accel_data = accel_data[0:5, :, :, :]\n",
      "gyro_data = gyro_data[0:5, :, :, :]"
     ],
     "language": "python",
     "metadata": {},
     "outputs": [],
     "prompt_number": 3
    },
    {
     "cell_type": "raw",
     "metadata": {},
     "source": [
      "# testing motion basis learner"
     ]
    },
    {
     "cell_type": "code",
     "collapsed": false,
     "input": [
      "basis_learner = MotionBasisLearner()\n",
      "# c.build_training_model(accel_data, restore_params_path=MotionBasisLearner.SAVE_PARAMS_PATH+'-10')\n",
      "basis_learner.build_training_model(accel_data)"
     ],
     "language": "python",
     "metadata": {},
     "outputs": [],
     "prompt_number": 4
    },
    {
     "cell_type": "code",
     "collapsed": false,
     "input": [
      "# pr = cProfile.Profile()\n",
      "# pr.enable()\n",
      "basis_learner.train(verbose=True, steps=20, learning_rate=0.01 )\n",
      "# pr.disable()\n",
      "# pr.print_stats()\n"
     ],
     "language": "python",
     "metadata": {},
     "outputs": [
      {
       "output_type": "stream",
       "stream": "stdout",
       "text": [
        "64.5403,0.31945 at step 40\n"
       ]
      },
      {
       "output_type": "stream",
       "stream": "stdout",
       "text": [
        "64.701,0.319452 at step 41\n"
       ]
      },
      {
       "output_type": "stream",
       "stream": "stdout",
       "text": [
        "64.5294,0.319453 at step 42\n"
       ]
      },
      {
       "output_type": "stream",
       "stream": "stdout",
       "text": [
        "63.9482,0.319455 at step 43\n"
       ]
      },
      {
       "output_type": "stream",
       "stream": "stdout",
       "text": [
        "63.4507,0.319456 at step 44\n"
       ]
      },
      {
       "output_type": "stream",
       "stream": "stdout",
       "text": [
        "63.3031,0.319457 at step 45\n"
       ]
      },
      {
       "output_type": "stream",
       "stream": "stdout",
       "text": [
        "62.999,0.319461 at step 46\n"
       ]
      },
      {
       "output_type": "stream",
       "stream": "stdout",
       "text": [
        "62.3035,0.319466 at step 47\n"
       ]
      },
      {
       "output_type": "stream",
       "stream": "stdout",
       "text": [
        "61.3151,0.319472 at step 48\n"
       ]
      },
      {
       "output_type": "stream",
       "stream": "stdout",
       "text": [
        "61.0964,0.319478 at step 49\n"
       ]
      },
      {
       "output_type": "stream",
       "stream": "stdout",
       "text": [
        "60.494,0.319486 at step 50\n"
       ]
      },
      {
       "output_type": "stream",
       "stream": "stdout",
       "text": [
        "59.9925,0.319492 at step 51\n"
       ]
      },
      {
       "output_type": "stream",
       "stream": "stdout",
       "text": [
        "59.4741,0.319499 at step 52\n"
       ]
      },
      {
       "output_type": "stream",
       "stream": "stdout",
       "text": [
        "58.3894,0.319505 at step 53\n"
       ]
      },
      {
       "output_type": "stream",
       "stream": "stdout",
       "text": [
        "58.1463,0.319512 at step 54\n"
       ]
      },
      {
       "output_type": "stream",
       "stream": "stdout",
       "text": [
        "57.2324,0.319518 at step 55\n"
       ]
      },
      {
       "output_type": "stream",
       "stream": "stdout",
       "text": [
        "56.9961,0.319525 at step 56\n"
       ]
      },
      {
       "output_type": "stream",
       "stream": "stdout",
       "text": [
        "56.4203,0.319533 at step 57\n"
       ]
      },
      {
       "output_type": "stream",
       "stream": "stdout",
       "text": [
        "55.8043,0.31954 at step 58\n"
       ]
      },
      {
       "output_type": "stream",
       "stream": "stdout",
       "text": [
        "54.9107,0.319548 at step 59\n"
       ]
      }
     ],
     "prompt_number": 11
    },
    {
     "cell_type": "code",
     "collapsed": false,
     "input": [
      "basis_learner.batch_chunks"
     ],
     "language": "python",
     "metadata": {},
     "outputs": [
      {
       "metadata": {},
       "output_type": "pyout",
       "prompt_number": 6,
       "text": [
        "[(0, 1), (1, 2), (2, 3), (3, 5)]"
       ]
      }
     ],
     "prompt_number": 6
    },
    {
     "cell_type": "code",
     "collapsed": false,
     "input": [
      "d = basis_learner._gen_v(tf.convert_to_tensor(basis_learner._gen_h(tf.convert_to_tensor(accel_data, tf.float32)), tf.float32), 0.001)\n",
      "# plt.plot(range(d.shape[2]), d[0,1,:,0])\n",
      "# plt.plot(range(accel_data.shape[2]), accel_data[0,1,:,0])\n",
      "\n",
      "plt.plot( d[0,1,300:400,0])\n",
      "plt.plot(accel_data[0,1,300:400,0])"
     ],
     "language": "python",
     "metadata": {},
     "outputs": [
      {
       "metadata": {},
       "output_type": "pyout",
       "prompt_number": 14,
       "text": [
        "[<matplotlib.lines.Line2D at 0x7f215f561ed0>]"
       ]
      },
      {
       "metadata": {},
       "output_type": "display_data",
       "png": "[encoded data removed]",
       "text": [
        "<matplotlib.figure.Figure at 0x7f215f69eed0>"
       ]
      }
     ],
     "prompt_number": 14
    },
    {
     "cell_type": "raw",
     "metadata": {},
     "source": [
      "# testing descriptor extractor"
     ]
    },
    {
     "cell_type": "code",
     "collapsed": false,
     "input": [
      "descriptor_extractor = DescriptorExtractor(basis_learner)"
     ],
     "language": "python",
     "metadata": {},
     "outputs": [],
     "prompt_number": 6
    },
    {
     "cell_type": "code",
     "collapsed": false,
     "input": [
      "d = descriptor_extractor.extract_descriptor(accel_data[0,::,:,0])\n",
      "d_raw = descriptor_extractor._extract_descriptor_raw(accel_data[0,:,:,0])"
     ],
     "language": "python",
     "metadata": {},
     "outputs": [],
     "prompt_number": 7
    },
    {
     "cell_type": "code",
     "collapsed": false,
     "input": [
      "fig1 = plt.Figure()\n",
      "# plt.imshow(d_raw)\n",
      "fig2 = plt.Figure()\n",
      "plt.plot(d)"
     ],
     "language": "python",
     "metadata": {},
     "outputs": [
      {
       "metadata": {},
       "output_type": "pyout",
       "prompt_number": 8,
       "text": [
        "[<matplotlib.lines.Line2D at 0x7fb89a63e350>]"
       ]
      },
      {
       "metadata": {},
       "output_type": "display_data",
       "png": "[encoded data removed]",
       "text": [
        "<matplotlib.figure.Figure at 0x7fb89962c450>"
       ]
      }
     ],
     "prompt_number": 8
    },
    {
     "cell_type": "raw",
     "metadata": {},
     "source": [
      "# scratch pad"
     ]
    },
    {
     "cell_type": "code",
     "collapsed": false,
     "input": [
      "t=list((496, 5))\n",
      "t."
     ],
     "language": "python",
     "metadata": {},
     "outputs": [],
     "prompt_number": 21
    }
   ],
   "metadata": {}
  }
 ]
}